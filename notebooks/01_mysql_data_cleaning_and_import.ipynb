{
 "cells": [
  {
   "cell_type": "markdown",
   "metadata": {},
   "source": [
    "# 🎬 Movie Database (IMDb-Style)\n",
    "### 📁 Step 1: Load & Clean Dataset | 📊 Step 2: MySQL Import"
   ]
  },
  {
   "cell_type": "markdown",
   "metadata": {},
   "source": [
    "## ✅ Step 1: Load the Raw CSV"
   ]
  },
  {
   "cell_type": "code",
   "execution_count": null,
   "metadata": {},
   "outputs": [],
   "source": [
    "import pandas as pd\n",
    "\n",
    "# Load the dataset\n",
    "df = pd.read_csv(\"../data/imdb_top_1000.csv\")\n",
    "\n",
    "# Preview\n",
    "df.head()"
   ]
  },
  {
   "cell_type": "markdown",
   "metadata": {},
   "source": [
    "## ✅ Step 2: Clean the Data"
   ]
  },
  {
   "cell_type": "code",
   "execution_count": null,
   "metadata": {},
   "outputs": [],
   "source": [
    "# Remove 'min' from Runtime and convert to int\n",
    "df['Runtime'] = df['Runtime'].str.replace('min', '').str.strip()\n",
    "df['Runtime'] = pd.to_numeric(df['Runtime'], errors='coerce')\n",
    "\n",
    "# Remove commas from Gross and Votes\n",
    "df['Gross'] = df['Gross'].astype(str).str.replace(',', '')\n",
    "df['No_of_Votes'] = df['No_of_Votes'].astype(str).str.replace(',', '')\n",
    "\n",
    "# Convert to numeric (handle missing values)\n",
    "df['Gross'] = pd.to_numeric(df['Gross'], errors='coerce')\n",
    "df['No_of_Votes'] = pd.to_numeric(df['No_of_Votes'], errors='coerce')\n",
    "df['Meta_score'] = pd.to_numeric(df['Meta_score'], errors='coerce')"
   ]
  },
  {
   "cell_type": "markdown",
   "metadata": {},
   "source": [
    "## ✅ Step 3: Save the Cleaned CSV"
   ]
  },
  {
   "cell_type": "code",
   "execution_count": null,
   "metadata": {},
   "outputs": [],
   "source": [
    "df.to_csv(\"../data/imdb_top_1000_cleaned.csv\", index=False)\n",
    "print(\"✅ Cleaned CSV saved successfully!\")"
   ]
  },
  {
   "cell_type": "markdown",
   "metadata": {},
   "source": [
    "## ✅ Step 4: SQL Table Schema (MySQL Reference)"
   ]
  },
  {
   "cell_type": "markdown",
   "metadata": {},
   "source": [
    "```sql\n",
    "CREATE DATABASE IF NOT EXISTS imdb;\n",
    "USE imdb;\n",
    "\n",
    "CREATE TABLE movies (\n",
    "    id INT AUTO_INCREMENT PRIMARY KEY,\n",
    "    series_title VARCHAR(255),\n",
    "    released_year INT,\n",
    "    certificate VARCHAR(20),\n",
    "    runtime INT,\n",
    "    genre VARCHAR(255),\n",
    "    imdb_rating FLOAT,\n",
    "    meta_score INT,\n",
    "    director VARCHAR(255),\n",
    "    star1 VARCHAR(255),\n",
    "    star2 VARCHAR(255),\n",
    "    star3 VARCHAR(255),\n",
    "    star4 VARCHAR(255),\n",
    "    no_of_votes INT,\n",
    "    gross BIGINT\n",
    ");\n",
    "```"
   ]
  },
  {
   "cell_type": "markdown",
   "metadata": {},
   "source": [
    "## ✅ Step 5: Import CSV into MySQL (Manual)\n",
    "- Open **MySQL Workbench**\n",
    "- Go to the `imdb` database\n",
    "- Right-click **Tables → Table Data Import Wizard**\n",
    "- Choose `imdb_top_1000_cleaned.csv`\n",
    "- Map columns correctly\n",
    "- Finish ✅"
   ]
  }
 ],
 "metadata": {
  "kernelspec": {
   "display_name": "Python 3",
   "language": "python",
   "name": "python3"
  },
  "language_info": {
   "name": "python",
   "version": ""
  }
 },
 "nbformat": 4,
 "nbformat_minor": 5
}
