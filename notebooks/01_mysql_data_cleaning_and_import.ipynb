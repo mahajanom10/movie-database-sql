{
 "cells": [
  {
   "cell_type": "code",
   "source": [
    "# STEP 1: Clone your GitHub repo\n",
    "!git clone https://github.com/your-username/your-repo-name.git\n",
    "%cd your-repo-name"
   ],
   "metadata": {},
   "execution_count": null,
   "outputs": []
  },
  {
   "cell_type": "code",
   "source": [
    "# STEP 2: Install dependencies\n",
    "!pip install pandas numpy"
   ],
   "metadata": {},
   "execution_count": null,
   "outputs": []
  },
  {
   "cell_type": "code",
   "source": [
    "# STEP 3: Load CSV\n",
    "import pandas as pd\n",
    "import numpy as np\n",
    "\n",
    "df = pd.read_csv('data/imdb_movies.csv')\n",
    "df.head()"
   ],
   "metadata": {},
   "execution_count": null,
   "outputs": []
  },
  {
   "cell_type": "code",
   "source": [
    "# STEP 4: Clean the data\n",
    "\n",
    "# Clean column names\n",
    "df.columns = [col.strip().lower().replace(\" \", \"_\") for col in df.columns]\n",
    "\n",
    "# Clean 'gross' column\n",
    "df['gross'] = df['gross'].astype(str).str.replace(',', '', regex=False).str.replace('$', '', regex=False).replace('nan', np.nan).astype(float)\n",
    "\n",
    "# Clean
